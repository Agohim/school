{
 "cells": [
  {
   "cell_type": "code",
   "execution_count": 1,
   "id": "c20f7ca3-d15b-449e-b7a9-935995d597d0",
   "metadata": {
    "tags": []
   },
   "outputs": [],
   "source": [
    "lovely_loveseat_description = \"Lovely Loveseat. Tufted polyester blend on wood.32 inches high x 40 inches wide x 30 inches deep. Red or white.\"\n",
    "lovely_loveseat_price = 254.00\n",
    "\n",
    "stylish_settee_description = \"Stylish Settee. Faux leather on birch. 29.50 inches high x 54.75 inches wide x 28 inches deep. Black.\"\n",
    "stylish_settee_price = 180.50\n",
    "\n",
    "luxurious_lamp_description = \"Luxurious Lamp. Glass and iron. 36 inches tall. Brown with cream shade.\"\n",
    "luxurious_lamp_price = 52.15"
   ]
  },
  {
   "cell_type": "code",
   "execution_count": 2,
   "id": "e28d5261-2b6f-4eef-b06a-96889efe5d56",
   "metadata": {
    "tags": []
   },
   "outputs": [],
   "source": [
    "sales_tax = .088\n",
    "customer_one_total = 0\n",
    "customer_one_itemization =\"\""
   ]
  },
  {
   "cell_type": "code",
   "execution_count": 3,
   "id": "7163513d-6f09-46f1-b1e0-8718a7393682",
   "metadata": {
    "tags": []
   },
   "outputs": [],
   "source": [
    "customer_one_total += lovely_loveseat_price\n",
    "customer_one_itemization += lovely_loveseat_description\n",
    "customer_one_total += luxurious_lamp_price\n",
    "customer_one_itemization += luxurious_lamp_description"
   ]
  },
  {
   "cell_type": "code",
   "execution_count": 4,
   "id": "011df7ff-6aa9-47fe-9a88-696f12adaa82",
   "metadata": {
    "tags": []
   },
   "outputs": [],
   "source": [
    "customer_one_tax = customer_one_total * sales_tax\n",
    "customer_one_total += customer_one_tax"
   ]
  },
  {
   "cell_type": "code",
   "execution_count": 5,
   "id": "36f34cb2-68b1-4a6d-bfce-1368c7e2b445",
   "metadata": {
    "tags": []
   },
   "outputs": [
    {
     "name": "stdout",
     "output_type": "stream",
     "text": [
      "Customer One Items:\n",
      "Lovely Loveseat. Tufted polyester blend on wood.32 inches high x 40 inches wide x 30 inches deep. Red or white.Luxurious Lamp. Glass and iron. 36 inches tall. Brown with cream shade.\n",
      "Customer One Total:\n",
      "333.09119999999996\n"
     ]
    }
   ],
   "source": [
    "print(\"Customer One Items:\\n\"+str(customer_one_itemization))\n",
    "print(\"Customer One Total:\\n\"+str(customer_one_total))"
   ]
  }
 ],
 "metadata": {
  "kernelspec": {
   "display_name": "Python 3 (ipykernel)",
   "language": "python",
   "name": "python3"
  },
  "language_info": {
   "codemirror_mode": {
    "name": "ipython",
    "version": 3
   },
   "file_extension": ".py",
   "mimetype": "text/x-python",
   "name": "python",
   "nbconvert_exporter": "python",
   "pygments_lexer": "ipython3",
   "version": "3.11.4"
  }
 },
 "nbformat": 4,
 "nbformat_minor": 5
}
