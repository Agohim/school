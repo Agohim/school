{
 "cells": [
  {
   "cell_type": "code",
   "execution_count": 52,
   "id": "487cfb5c-de70-4eeb-a1e7-0f202b59f233",
   "metadata": {
    "tags": []
   },
   "outputs": [],
   "source": [
    "def get_my_chosun_name(family_name, month, day):\n",
    "    chosun_month = ['쌍','쇠','복','돌','팽','육','쌍','개','칠','갑','삼','방']\n",
    "    chosun_day =['봉', '구', '욕', '포', '똥', '삼', '식', '석', '놈', '님', '년',\n",
    "          '돌', '단', '득', '방', '질', '장', '걸', '래', '룡', '동', '순',\n",
    "          '자', '박', '창', '언', '것', '포', '만', '단', '국']\n",
    "    name1 = chosun_month[month - 1]\n",
    "    name2 = chosun_day[day - 1]\n",
    "    full_name =f'당신의 조선시대 이름은 {family_name}{name1}{name2} 입니다.'\n",
    "    print(full_name)"
   ]
  },
  {
   "cell_type": "code",
   "execution_count": 55,
   "id": "7a874eb7-2e41-496b-8ecf-f803b5029b05",
   "metadata": {
    "tags": []
   },
   "outputs": [
    {
     "name": "stdout",
     "output_type": "stream",
     "text": [
      "당신의 조선시대 이름은 김갑욕 입니다.\n"
     ]
    }
   ],
   "source": [
    "get_my_chosun_name('김',10,3)"
   ]
  },
  {
   "cell_type": "code",
   "execution_count": null,
   "id": "a3aa5e21-20d8-49f4-a5e5-addd7a68ea79",
   "metadata": {},
   "outputs": [],
   "source": []
  }
 ],
 "metadata": {
  "kernelspec": {
   "display_name": "Python 3 (ipykernel)",
   "language": "python",
   "name": "python3"
  },
  "language_info": {
   "codemirror_mode": {
    "name": "ipython",
    "version": 3
   },
   "file_extension": ".py",
   "mimetype": "text/x-python",
   "name": "python",
   "nbconvert_exporter": "python",
   "pygments_lexer": "ipython3",
   "version": "3.11.4"
  }
 },
 "nbformat": 4,
 "nbformat_minor": 5
}
