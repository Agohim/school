{
 "cells": [
  {
   "cell_type": "code",
   "execution_count": 8,
   "id": "61e0e4b3-f382-4f80-8d57-b015fda1a350",
   "metadata": {
    "tags": []
   },
   "outputs": [],
   "source": [
    "subjects = list([\"physics\",\"calculus\",\"poetry\",\"history\"])"
   ]
  },
  {
   "cell_type": "code",
   "execution_count": 9,
   "id": "0362f106-827e-4ddc-ae95-499481f41765",
   "metadata": {
    "tags": []
   },
   "outputs": [],
   "source": [
    "grades =list([98,97,85,88])"
   ]
  },
  {
   "cell_type": "code",
   "execution_count": 10,
   "id": "c720f31e-7481-49a0-85f0-1e0561c25ca8",
   "metadata": {
    "tags": []
   },
   "outputs": [
    {
     "name": "stdout",
     "output_type": "stream",
     "text": [
      "[['physics', 98], ['calculus', 97], ['poetry', 85], ['history', 88]]\n"
     ]
    }
   ],
   "source": [
    "gradebook =[]\n",
    "for i in range(len(grades)):\n",
    "    gradebook.append([subjects[i],grades[i]])\n",
    "print(gradebook)"
   ]
  },
  {
   "cell_type": "code",
   "execution_count": 11,
   "id": "dbe420e8-92bc-4b1d-9ae7-92ee21f2ae03",
   "metadata": {
    "tags": []
   },
   "outputs": [
    {
     "name": "stdout",
     "output_type": "stream",
     "text": [
      "[['physics', 98], ['calculus', 97], ['poetry', 85], ['history', 88], ['computer science', 100], ['visual arts', 93]]\n"
     ]
    }
   ],
   "source": [
    "gradebook.append(['computer science', 100])\n",
    "gradebook.append(['visual arts', 93])\n",
    "print(gradebook)"
   ]
  },
  {
   "cell_type": "code",
   "execution_count": 12,
   "id": "4f7c3dcd-1afd-41ee-b7a3-6726d4b68e4e",
   "metadata": {
    "tags": []
   },
   "outputs": [
    {
     "name": "stdout",
     "output_type": "stream",
     "text": [
      "[['physics', 98], ['calculus', 97], ['poetry', 85], ['history', 88], ['computer science', 100], ['visual arts', 98]]\n"
     ]
    }
   ],
   "source": [
    "gradebook[5] =['visual arts',98]\n",
    "print(gradebook)"
   ]
  },
  {
   "cell_type": "code",
   "execution_count": 13,
   "id": "7d7d0e03-1a55-4d91-8272-eb1760545371",
   "metadata": {
    "tags": []
   },
   "outputs": [
    {
     "name": "stdout",
     "output_type": "stream",
     "text": [
      "[['physics', 98], ['calculus', 97], ['poetry', 'pass'], ['history', 88], ['computer science', 100], ['visual arts', 98]]\n"
     ]
    }
   ],
   "source": [
    "gradebook[2].remove(85)\n",
    "gradebook[2].append('pass')\n",
    "print(gradebook)"
   ]
  },
  {
   "cell_type": "code",
   "execution_count": 14,
   "id": "2b933b6a-76e8-40a8-adf8-816b5d3c81d5",
   "metadata": {
    "tags": []
   },
   "outputs": [
    {
     "name": "stdout",
     "output_type": "stream",
     "text": [
      "[['politics', 80], ['latin', 96], ['dance', 97], ['architecture', 65], ['physics', 98], ['calculus', 97], ['poetry', 'pass'], ['history', 88], ['computer science', 100], ['visual arts', 98]]\n"
     ]
    }
   ],
   "source": [
    "last_semester_gradebook = [[\"politics\", 80], [\"latin\", 96], [\"dance\", 97], [\"architecture\", 65]]\n",
    "full_gradebook = last_semester_gradebook +gradebook\n",
    "\n",
    "print(full_gradebook)"
   ]
  }
 ],
 "metadata": {
  "kernelspec": {
   "display_name": "Python 3 (ipykernel)",
   "language": "python",
   "name": "python3"
  },
  "language_info": {
   "codemirror_mode": {
    "name": "ipython",
    "version": 3
   },
   "file_extension": ".py",
   "mimetype": "text/x-python",
   "name": "python",
   "nbconvert_exporter": "python",
   "pygments_lexer": "ipython3",
   "version": "3.11.4"
  }
 },
 "nbformat": 4,
 "nbformat_minor": 5
}
